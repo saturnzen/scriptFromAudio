{
 "cells": [
  {
   "cell_type": "code",
   "execution_count": 1,
   "id": "05a023e8",
   "metadata": {},
   "outputs": [
    {
     "name": "stdout",
     "output_type": "stream",
     "text": [
      "False\n",
      "D:\\Soft\\ffmpeg-7.1.1-essentials_build\\ffmpeg-7.1.1-essentials_build\\bin\\ffmpeg.exe\n"
     ]
    }
   ],
   "source": [
    "#test trường dữ liệu\n",
    "\n",
    "import os\n",
    "print(os.path.exists(r\"D:\\Personality\\Nguyen\\Business Intelligent\\_hibt_lyft.mp3\"))\n",
    "\n",
    "from pydub.utils import which\n",
    "print(which(\"ffmpeg\"))\n"
   ]
  },
  {
   "cell_type": "code",
   "execution_count": 2,
   "id": "edb312b6",
   "metadata": {},
   "outputs": [],
   "source": [
    "def audio_to_txt(root_file, output_txt_path):\n",
    "  from pydub import AudioSegment\n",
    "\n",
    "  #root_file=r\"D:\\Personality\\Nguyen\\Lifelong learning\\Business Intelligent\\entrepreneur\\_hibt_toms-shoes-.mp3\"\n",
    "  #output_txt_path = r\"D:\\Personality\\Nguyen\\Business Intelligent\\entrepreneur\\_hibt_toms-shoes-.txt\"\n",
    "\n",
    "  audio = AudioSegment.from_mp3(root_file)\n",
    "  audio.export(\"your_audio.wav\", format=\"wav\")\n",
    "\n",
    "  import whisper\n",
    "\n",
    "  model = whisper.load_model(\"base\")  # Có thể thay bằng 'small', 'medium', 'large'\n",
    "  result = model.transcribe(\"your_audio.wav\")\n",
    "\n",
    "  #print(result[\"text\"])\n",
    "\n",
    "  with open(output_txt_path, \"w\", encoding=\"utf-8\") as f:\n",
    "      f.write(result[\"text\"])\n",
    "\n",
    "  print(f\"Đã lưu transcript vào: {output_txt_path}\")\n"
   ]
  },
  {
   "cell_type": "code",
   "execution_count": null,
   "id": "d6576ed7",
   "metadata": {},
   "outputs": [
    {
     "name": "stdout",
     "output_type": "stream",
     "text": [
      "D:\\Personality\\Nguyen\\Bigdata\\read pdf\\NPR5187380788.txt\n"
     ]
    }
   ],
   "source": [
    "root_file_path = r\"\" #đường dẫm file mp3\n",
    "output_txt_path = root_file.replace(\".mp3\",\".txt\")\n",
    "print(output_txt_path)"
   ]
  },
  {
   "cell_type": "code",
   "execution_count": 4,
   "id": "83f7d577",
   "metadata": {},
   "outputs": [
    {
     "name": "stderr",
     "output_type": "stream",
     "text": [
      "C:\\Users\\lulum\\AppData\\Local\\Packages\\PythonSoftwareFoundation.Python.3.12_qbz5n2kfra8p0\\LocalCache\\local-packages\\Python312\\site-packages\\whisper\\__init__.py:150: FutureWarning: You are using `torch.load` with `weights_only=False` (the current default value), which uses the default pickle module implicitly. It is possible to construct malicious pickle data which will execute arbitrary code during unpickling (See https://github.com/pytorch/pytorch/blob/main/SECURITY.md#untrusted-models for more details). In a future release, the default value for `weights_only` will be flipped to `True`. This limits the functions that could be executed during unpickling. Arbitrary objects will no longer be allowed to be loaded via this mode unless they are explicitly allowlisted by the user via `torch.serialization.add_safe_globals`. We recommend you start setting `weights_only=True` for any use case where you don't have full control of the loaded file. Please open an issue on GitHub for any issues related to this experimental feature.\n",
      "  checkpoint = torch.load(fp, map_location=device)\n",
      "C:\\Users\\lulum\\AppData\\Local\\Packages\\PythonSoftwareFoundation.Python.3.12_qbz5n2kfra8p0\\LocalCache\\local-packages\\Python312\\site-packages\\whisper\\transcribe.py:126: UserWarning: FP16 is not supported on CPU; using FP32 instead\n",
      "  warnings.warn(\"FP16 is not supported on CPU; using FP32 instead\")\n"
     ]
    },
    {
     "name": "stdout",
     "output_type": "stream",
     "text": [
      "Đã lưu transcript vào: D:\\Personality\\Nguyen\\Bigdata\\read pdf\\NPR5187380788.txt\n"
     ]
    }
   ],
   "source": [
    "audio_to_txt(root_file,output_txt_path)"
   ]
  },
  {
   "cell_type": "code",
   "execution_count": 1,
   "id": "724b2e5d",
   "metadata": {},
   "outputs": [
    {
     "name": "stdout",
     "output_type": "stream",
     "text": [
      "d:\\Personality\\Nguyen\\Bigdata\\read pdf\\your_audio.wav\n"
     ]
    }
   ],
   "source": [
    "import os\n",
    "print(os.path.abspath(\"your_audio.wav\"))\n",
    "\n"
   ]
  }
 ],
 "metadata": {
  "kernelspec": {
   "display_name": "Python 3",
   "language": "python",
   "name": "python3"
  },
  "language_info": {
   "codemirror_mode": {
    "name": "ipython",
    "version": 3
   },
   "file_extension": ".py",
   "mimetype": "text/x-python",
   "name": "python",
   "nbconvert_exporter": "python",
   "pygments_lexer": "ipython3",
   "version": "3.11.2"
  }
 },
 "nbformat": 4,
 "nbformat_minor": 5
}
